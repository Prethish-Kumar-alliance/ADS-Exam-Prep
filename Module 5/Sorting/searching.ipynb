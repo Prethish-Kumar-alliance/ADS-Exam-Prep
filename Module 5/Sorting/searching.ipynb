{
 "cells": [
  {
   "cell_type": "code",
   "execution_count": null,
   "id": "797bffc8",
   "metadata": {},
   "outputs": [],
   "source": [
    "def linear_search(arr, target):\n",
    "    for i, value in enumerate(arr):\n",
    "        if value == target:\n",
    "            return i  # Found at index i\n",
    "    return -1  # Not found"
   ]
  },
  {
   "cell_type": "code",
   "execution_count": null,
   "id": "f8f82f5d",
   "metadata": {},
   "outputs": [],
   "source": [
    "def binary_search(arr, target):\n",
    "    left, right = 0, len(arr) - 1\n",
    "    while left <= right:\n",
    "        mid = (left + right) // 2\n",
    "        if arr[mid] == target:\n",
    "            return mid  # Found\n",
    "        elif arr[mid] < target:\n",
    "            left = mid + 1\n",
    "        else:\n",
    "            right = mid - 1\n",
    "    return -1  # Not found\n",
    "\n",
    "# Example\n",
    "arr = [2, 3, 5, 6, 8]  # Sorted!\n",
    "target = 6\n",
    "print(\"Binary Search Result:\", binary_search(arr, target))  # Output: 3\n"
   ]
  },
  {
   "cell_type": "code",
   "execution_count": null,
   "id": "8b758e3d",
   "metadata": {},
   "outputs": [],
   "source": [
    "def find_unique_linear(arr):\n",
    "    n = len(arr)\n",
    "    for i in range(0, n - 1, 2):  # step by 2\n",
    "        if arr[i] != arr[i + 1]:\n",
    "            return arr[i]\n",
    "    return arr[-1]  # Last element is the unique one\n",
    "\n",
    "# Test\n",
    "arr = [1, 1, 2, 2, 3, 3, 4, 5, 5]\n",
    "print(\"Unique element using Linear Search:\", find_unique_linear(arr))"
   ]
  },
  {
   "cell_type": "code",
   "execution_count": 2,
   "id": "f10811ae",
   "metadata": {},
   "outputs": [
    {
     "name": "stdout",
     "output_type": "stream",
     "text": [
      "Unique element using Binary Search: 6\n"
     ]
    }
   ],
   "source": [
    "def find_unique_binary(arr):\n",
    "    low = 0\n",
    "    high = len(arr) - 1\n",
    "\n",
    "    while low < high:\n",
    "        mid = (low + high) // 2\n",
    "        # Ensure mid is even for pairing\n",
    "        if mid % 2 == 1:\n",
    "            mid -= 1\n",
    "\n",
    "        if arr[mid] == arr[mid + 1]:\n",
    "            low = mid + 2  # Move right\n",
    "        else:\n",
    "            high = mid  # Move left\n",
    "\n",
    "    return arr[low]\n",
    "\n",
    "# Test\n",
    "arr = [1, 1, 2, 2, 3, 3, 4,4,6, 5, 5]\n",
    "print(\"Unique element using Binary Search:\", find_unique_binary(arr))\n"
   ]
  },
  {
   "cell_type": "code",
   "execution_count": null,
   "id": "0c942475",
   "metadata": {},
   "outputs": [],
   "source": []
  }
 ],
 "metadata": {
  "kernelspec": {
   "display_name": "Python 3",
   "language": "python",
   "name": "python3"
  },
  "language_info": {
   "codemirror_mode": {
    "name": "ipython",
    "version": 3
   },
   "file_extension": ".py",
   "mimetype": "text/x-python",
   "name": "python",
   "nbconvert_exporter": "python",
   "pygments_lexer": "ipython3",
   "version": "3.11.5"
  }
 },
 "nbformat": 4,
 "nbformat_minor": 5
}
