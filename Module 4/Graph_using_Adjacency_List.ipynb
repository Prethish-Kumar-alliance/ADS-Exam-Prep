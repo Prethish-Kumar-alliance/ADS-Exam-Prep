{
 "cells": [
  {
   "cell_type": "code",
   "execution_count": 1,
   "id": "777605cc",
   "metadata": {},
   "outputs": [],
   "source": [
    "from collections import deque\n",
    "\n",
    "class Node:\n",
    "    def __init__(self, vName):\n",
    "        self.vName = vName\n",
    "        self.next = None\n",
    "\n",
    "class Graph:\n",
    "    def __init__(self):\n",
    "        self.size = 0\n",
    "        self.items = []\n",
    "\n",
    "    def isempty(self):\n",
    "        return self.size == 0\n",
    "    \n",
    "    def bfs(self, start):\n",
    "        visited = set()\n",
    "        queue = deque()\n",
    "\n",
    "        queue.append(start)\n",
    "        visited.add(start)\n",
    "\n",
    "        print(\"BFS Traversal:\", end=' ')\n",
    "        while queue:\n",
    "            current = queue.popleft()\n",
    "            print(current, end=' ')\n",
    "\n",
    "            # Find current in items\n",
    "            for i in range(self.size):\n",
    "                if self.items[i][0] == current:\n",
    "                    neighbor = self.items[i][1]\n",
    "                    while neighbor:\n",
    "                        if neighbor.vName not in visited:\n",
    "                            queue.append(neighbor.vName)\n",
    "                            visited.add(neighbor.vName)\n",
    "                        neighbor = neighbor.next\n",
    "        print()\n",
    "\n",
    "    def dfs(self, start):\n",
    "        visited = set()\n",
    "        stack = []\n",
    "\n",
    "        stack.append(start)\n",
    "\n",
    "        print(\"DFS Traversal:\", end=' ')\n",
    "        while stack:\n",
    "            current = stack.pop()\n",
    "            if current not in visited:\n",
    "                print(current, end=' ')\n",
    "                visited.add(current)\n",
    "\n",
    "                # Push neighbors in reverse order (to simulate recursion)\n",
    "                for i in range(self.size):\n",
    "                    if self.items[i][0] == current:\n",
    "                        neighbor = self.items[i][1]\n",
    "                        temp = []\n",
    "                        while neighbor:\n",
    "                            if neighbor.vName not in visited:\n",
    "                                temp.append(neighbor.vName)\n",
    "                            neighbor = neighbor.next\n",
    "                        stack.extend(reversed(temp))\n",
    "        print()\n",
    "\n",
    "\n",
    "    def insert_vertex(self, v):\n",
    "        self.items.append([v, None])\n",
    "        self.size += 1\n",
    "\n",
    "    def insert_edge(self, vi, vj):\n",
    "\n",
    "        for i in range(self.size):\n",
    "        \n",
    "            if self.items[i][0] == vi:\n",
    "                newNode = Node(vj)\n",
    "                if self.items[i][1] is None:\n",
    "                    self.items[i][1] = newNode\n",
    "                else:\n",
    "                    last = self.items[i][1]\n",
    "                    while last.next:\n",
    "                        last = last.next\n",
    "                    last.next = newNode\n",
    "\n",
    "            if self.items[i][0] == vj:\n",
    "                newNode = Node(vi)\n",
    "                if self.items[i][1] is None:\n",
    "                    self.items[i][1] = newNode\n",
    "                else:\n",
    "                    last = self.items[i][1]\n",
    "                    while last.next:\n",
    "                        last = last.next\n",
    "                    last.next = newNode\n",
    "\n",
    "    def search(self, v):\n",
    "        for i in range(self.size):\n",
    "            if self.items[i][0] == v:\n",
    "                return True\n",
    "        return False\n",
    "\n",
    "    def delete_vertex(self, v):\n",
    "        for i in range(self.size):\n",
    "            if self.items[i][0] == v:\n",
    "                curNode = self.items[i][1]\n",
    "                while curNode:\n",
    "                    self.delete_edge(curNode.vName, v)\n",
    "                    curNode = curNode.next\n",
    "                del self.items[i]\n",
    "                break\n",
    "        self.size -= 1\n",
    "        print(\"Vertex removed!\")\n",
    "\n",
    "    def delete_edge(self, vi, vj):\n",
    "\n",
    "        for i in range(self.size):\n",
    "\n",
    "            if self.items[i][0] == vi:\n",
    "                curNode = self.items[i][1]\n",
    "                if curNode.vName == vj:\n",
    "                    self.items[i][1] = curNode.next\n",
    "                else:\n",
    "                    prev = None\n",
    "                    while curNode and curNode.vName != vj:\n",
    "                        prev = curNode\n",
    "                        curNode = curNode.next\n",
    "                    if curNode:  # Ensure curNode is not None\n",
    "                        if prev:\n",
    "                            prev.next = curNode.next\n",
    "                        else:\n",
    "                            self.items[i][1] = curNode.next\n",
    "                    del curNode\n",
    "\n",
    "            if self.items[i][0] == vj:\n",
    "                curNode = self.items[i][1]\n",
    "                if curNode.vName == vi:\n",
    "                    self.items[i][1] = curNode.next\n",
    "                else:\n",
    "                    prev = None\n",
    "                    while curNode and curNode.vName != vi:\n",
    "                        prev = curNode\n",
    "                        curNode = curNode.next\n",
    "                    if curNode:  # Ensure curNode is not None\n",
    "                        if prev:\n",
    "                            prev.next = curNode.next\n",
    "                        else:\n",
    "                            self.items[i][1] = curNode.next\n",
    "                    del curNode\n",
    "\n",
    "    def display(self):\n",
    "        for i in range(self.size):\n",
    "            print(self.items[i][0], \":\", end=' ')\n",
    "            curNode = self.items[i][1]\n",
    "            while curNode:\n",
    "                print(curNode.vName, end=' ')\n",
    "                curNode = curNode.next\n",
    "            print(\"None\")\n",
    "\n",
    "g = Graph()\n"
   ]
  },
  {
   "cell_type": "code",
   "execution_count": 2,
   "id": "ec9cdd1d",
   "metadata": {},
   "outputs": [
    {
     "name": "stdout",
     "output_type": "stream",
     "text": [
      "A : None\n",
      "B : None\n",
      "C : None\n",
      "D : None\n"
     ]
    }
   ],
   "source": [
    "g.insert_vertex(\"A\")\n",
    "g.insert_vertex(\"B\")\n",
    "g.insert_vertex(\"C\")\n",
    "g.insert_vertex(\"D\")\n",
    "\n",
    "g.display()\n"
   ]
  },
  {
   "cell_type": "code",
   "execution_count": 3,
   "id": "7b3a6d1d",
   "metadata": {},
   "outputs": [
    {
     "name": "stdout",
     "output_type": "stream",
     "text": [
      "A : B C None\n",
      "B : A D None\n",
      "C : A None\n",
      "D : B None\n"
     ]
    }
   ],
   "source": [
    "g.insert_edge(\"A\", \"B\")\n",
    "g.insert_edge(\"A\", \"C\")\n",
    "g.insert_edge(\"B\", \"D\")\n",
    "\n",
    "g.display()"
   ]
  },
  {
   "cell_type": "code",
   "execution_count": null,
   "id": "90f7c023",
   "metadata": {},
   "outputs": [
    {
     "name": "stdout",
     "output_type": "stream",
     "text": [
      "BFS Traversal: A B C D \n"
     ]
    }
   ],
   "source": [
    "g.bfs(\"A\")"
   ]
  },
  {
   "cell_type": "code",
   "execution_count": 5,
   "id": "fa63555e",
   "metadata": {},
   "outputs": [
    {
     "name": "stdout",
     "output_type": "stream",
     "text": [
      "DFS Traversal: A B D C \n"
     ]
    }
   ],
   "source": [
    "g.dfs(\"A\")"
   ]
  },
  {
   "cell_type": "code",
   "execution_count": 10,
   "id": "5005f5f7",
   "metadata": {},
   "outputs": [
    {
     "name": "stdout",
     "output_type": "stream",
     "text": [
      "A : C None\n",
      "B : D None\n",
      "C : A None\n",
      "D : B None\n"
     ]
    }
   ],
   "source": [
    "g.delete_edge(\"A\", \"B\")\n",
    "\n",
    "g.display()\n"
   ]
  },
  {
   "cell_type": "code",
   "execution_count": 16,
   "id": "07e9d2ee",
   "metadata": {},
   "outputs": [
    {
     "ename": "AttributeError",
     "evalue": "'NoneType' object has no attribute 'vName'",
     "output_type": "error",
     "traceback": [
      "\u001b[1;31m---------------------------------------------------------------------------\u001b[0m",
      "\u001b[1;31mAttributeError\u001b[0m                            Traceback (most recent call last)",
      "Cell \u001b[1;32mIn[16], line 1\u001b[0m\n\u001b[1;32m----> 1\u001b[0m \u001b[43mg\u001b[49m\u001b[38;5;241;43m.\u001b[39;49m\u001b[43mdelete_vertex\u001b[49m\u001b[43m(\u001b[49m\u001b[38;5;124;43m\"\u001b[39;49m\u001b[38;5;124;43mB\u001b[39;49m\u001b[38;5;124;43m\"\u001b[39;49m\u001b[43m)\u001b[49m\n\u001b[0;32m      3\u001b[0m g\u001b[38;5;241m.\u001b[39mdisplay()\n",
      "Cell \u001b[1;32mIn[7], line 104\u001b[0m, in \u001b[0;36mGraph.delete_vertex\u001b[1;34m(self, v)\u001b[0m\n\u001b[0;32m    102\u001b[0m curNode \u001b[38;5;241m=\u001b[39m \u001b[38;5;28mself\u001b[39m\u001b[38;5;241m.\u001b[39mitems[i][\u001b[38;5;241m1\u001b[39m]\n\u001b[0;32m    103\u001b[0m \u001b[38;5;28;01mwhile\u001b[39;00m curNode:\n\u001b[1;32m--> 104\u001b[0m     \u001b[38;5;28;43mself\u001b[39;49m\u001b[38;5;241;43m.\u001b[39;49m\u001b[43mdelete_edge\u001b[49m\u001b[43m(\u001b[49m\u001b[43mcurNode\u001b[49m\u001b[38;5;241;43m.\u001b[39;49m\u001b[43mvName\u001b[49m\u001b[43m,\u001b[49m\u001b[43m \u001b[49m\u001b[43mv\u001b[49m\u001b[43m)\u001b[49m\n\u001b[0;32m    105\u001b[0m     curNode \u001b[38;5;241m=\u001b[39m curNode\u001b[38;5;241m.\u001b[39mnext\n\u001b[0;32m    106\u001b[0m \u001b[38;5;28;01mdel\u001b[39;00m \u001b[38;5;28mself\u001b[39m\u001b[38;5;241m.\u001b[39mitems[i]\n",
      "Cell \u001b[1;32mIn[7], line 133\u001b[0m, in \u001b[0;36mGraph.delete_edge\u001b[1;34m(self, vi, vj)\u001b[0m\n\u001b[0;32m    131\u001b[0m \u001b[38;5;28;01mif\u001b[39;00m \u001b[38;5;28mself\u001b[39m\u001b[38;5;241m.\u001b[39mitems[i][\u001b[38;5;241m0\u001b[39m] \u001b[38;5;241m==\u001b[39m vj:\n\u001b[0;32m    132\u001b[0m     curNode \u001b[38;5;241m=\u001b[39m \u001b[38;5;28mself\u001b[39m\u001b[38;5;241m.\u001b[39mitems[i][\u001b[38;5;241m1\u001b[39m]\n\u001b[1;32m--> 133\u001b[0m     \u001b[38;5;28;01mif\u001b[39;00m \u001b[43mcurNode\u001b[49m\u001b[38;5;241;43m.\u001b[39;49m\u001b[43mvName\u001b[49m \u001b[38;5;241m==\u001b[39m vi:\n\u001b[0;32m    134\u001b[0m         \u001b[38;5;28mself\u001b[39m\u001b[38;5;241m.\u001b[39mitems[i][\u001b[38;5;241m1\u001b[39m] \u001b[38;5;241m=\u001b[39m curNode\u001b[38;5;241m.\u001b[39mnext\n\u001b[0;32m    135\u001b[0m     \u001b[38;5;28;01melse\u001b[39;00m:\n",
      "\u001b[1;31mAttributeError\u001b[0m: 'NoneType' object has no attribute 'vName'"
     ]
    }
   ],
   "source": [
    "g.delete_vertex(\"B\")\n",
    "\n",
    "g.display()"
   ]
  },
  {
   "cell_type": "code",
   "execution_count": null,
   "id": "d95de7aa",
   "metadata": {},
   "outputs": [],
   "source": [
    "from collections import deque\n",
    "\n",
    "\n",
    "\n"
   ]
  }
 ],
 "metadata": {
  "kernelspec": {
   "display_name": "Python 3",
   "language": "python",
   "name": "python3"
  },
  "language_info": {
   "codemirror_mode": {
    "name": "ipython",
    "version": 3
   },
   "file_extension": ".py",
   "mimetype": "text/x-python",
   "name": "python",
   "nbconvert_exporter": "python",
   "pygments_lexer": "ipython3",
   "version": "3.11.5"
  }
 },
 "nbformat": 4,
 "nbformat_minor": 5
}
