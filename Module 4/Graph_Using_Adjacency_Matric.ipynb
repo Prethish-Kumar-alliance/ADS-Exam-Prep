{
 "cells": [
  {
   "cell_type": "code",
   "execution_count": null,
   "id": "2b864d67",
   "metadata": {},
   "outputs": [],
   "source": [
    "from collections import deque\n",
    "\n",
    "class Graph:\n",
    "    def __init__(self, size=0):\n",
    "        self.size = size\n",
    "        self.items = [[0 for i in range(size)] for j in range(size)]\n",
    "\n",
    "    def isempty(self):\n",
    "        return self.size == 0\n",
    "\n",
    "    def insert_vertex(self):  # function to insert a vertex\n",
    "        for i in range(self.size):\n",
    "            self.items[i].append(0)\n",
    "        self.items.append([0 for i in range(self.size + 1)])\n",
    "        self.size += 1\n",
    "\n",
    "    def insert_edge(self, vi, vj):  # function to insert an edge\n",
    "        if vi >= self.size or vj >= self.size:\n",
    "            print(\"Invalid vertex index\")\n",
    "            return\n",
    "        self.items[vi][vj] = 1\n",
    "        self.items[vj][vi] = 1\n",
    "\n",
    "    def delete_vertex(self, v):  # function to delete a vertex\n",
    "        if v >= self.size:\n",
    "            print(\"Vertex not found\")\n",
    "            return\n",
    "        for i in range(self.size):\n",
    "            del self.items[i][v]\n",
    "        del self.items[v]\n",
    "        self.size -= 1\n",
    "        print(\"Vertex removed\")\n",
    "\n",
    "    def delete_edge(self, vi, vj):  # function to delete an edge\n",
    "        if vi >= self.size or vj >= self.size:\n",
    "            print(\"Vertex not found...\")\n",
    "            return\n",
    "        self.items[vi][vj] = 0\n",
    "        self.items[vj][vi] = 0\n",
    "        print(\"Edge removed!\")\n",
    "\n",
    "    def display(self):\n",
    "        for i in range(self.size):\n",
    "            print(\"v{}|\".format(i), end=\" \")\n",
    "            for j in range(self.size):\n",
    "                print(self.items[i][j], end=\" \")\n",
    "            print(\"|\")\n",
    "\n",
    "    def dfs(self, start, visited=None):\n",
    "        if visited is None:\n",
    "            visited = [False] * self.size\n",
    "        visited[start] = True\n",
    "        print(start, end=\" \")\n",
    "        for i in range(self.size):\n",
    "            if self.items[start][i] == 1 and not visited[i]:\n",
    "                self.dfs(i, visited)\n",
    "\n",
    "    def bfs(self, start):\n",
    "        visited = [False] * self.size\n",
    "        queue = []\n",
    "        visited[start] = True\n",
    "        queue.append(start)\n",
    "\n",
    "        while queue:\n",
    "            vertex = queue.pop(0)\n",
    "            print(vertex, end=\" \")\n",
    "\n",
    "            for i in range(self.size):\n",
    "                if self.items[vertex][i] == 1 and not visited[i]:\n",
    "                    visited[i] = True\n",
    "                    queue.append(i)\n",
    "\n",
    "\n",
    "\n",
    "# Driver code\n",
    "g = Graph()\n"
   ]
  },
  {
   "cell_type": "code",
   "execution_count": 3,
   "id": "9b34d65d",
   "metadata": {},
   "outputs": [
    {
     "name": "stdout",
     "output_type": "stream",
     "text": [
      "v0| 0 0 0 0 0 |\n",
      "v1| 0 0 0 0 0 |\n",
      "v2| 0 0 0 0 0 |\n",
      "v3| 0 0 0 0 0 |\n",
      "v4| 0 0 0 0 0 |\n"
     ]
    }
   ],
   "source": [
    "for _ in range(5):\n",
    "    g.insert_vertex()\n",
    "g.display()\n"
   ]
  },
  {
   "cell_type": "code",
   "execution_count": 4,
   "id": "2e31b49e",
   "metadata": {},
   "outputs": [
    {
     "name": "stdout",
     "output_type": "stream",
     "text": [
      "v0| 0 1 1 0 0 |\n",
      "v1| 1 0 0 1 0 |\n",
      "v2| 1 0 0 0 0 |\n",
      "v3| 0 1 0 0 1 |\n",
      "v4| 0 0 0 1 0 |\n"
     ]
    }
   ],
   "source": [
    "g.insert_edge(0, 1)\n",
    "g.insert_edge(0, 2)\n",
    "g.insert_edge(1, 3)\n",
    "g.insert_edge(3, 4)\n",
    "\n",
    "g.display()"
   ]
  },
  {
   "cell_type": "code",
   "execution_count": null,
   "id": "0cc7765e",
   "metadata": {},
   "outputs": [],
   "source": [
    "s"
   ]
  }
 ],
 "metadata": {
  "kernelspec": {
   "display_name": "Python 3",
   "language": "python",
   "name": "python3"
  },
  "language_info": {
   "codemirror_mode": {
    "name": "ipython",
    "version": 3
   },
   "file_extension": ".py",
   "mimetype": "text/x-python",
   "name": "python",
   "nbconvert_exporter": "python",
   "pygments_lexer": "ipython3",
   "version": "3.11.5"
  }
 },
 "nbformat": 4,
 "nbformat_minor": 5
}
