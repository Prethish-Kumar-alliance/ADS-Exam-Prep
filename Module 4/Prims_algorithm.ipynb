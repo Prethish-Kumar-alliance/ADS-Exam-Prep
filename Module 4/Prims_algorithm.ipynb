{
  "nbformat": 4,
  "nbformat_minor": 0,
  "metadata": {
    "colab": {
      "provenance": []
    },
    "kernelspec": {
      "name": "python3",
      "display_name": "Python 3"
    },
    "language_info": {
      "name": "python"
    }
  },
  "cells": [
    {
      "cell_type": "code",
      "execution_count": 2,
      "metadata": {
        "colab": {
          "base_uri": "https://localhost:8080/"
        },
        "id": "NV48m1hI190P",
        "outputId": "ee31e8c6-98ee-4fc6-eed4-39b3cebde0fd"
      },
      "outputs": [
        {
          "output_type": "stream",
          "name": "stdout",
          "text": [
            "Enter the number of vertices: 4\n",
            "Enter the path weight of the edge (0,1): 10\n",
            "Enter the path weight of the edge (0,2): 6\n",
            "Enter the path weight of the edge (0,3): 5\n",
            "Enter the path weight of the edge (1,2): 0\n",
            "Enter the path weight of the edge (1,3): 15\n",
            "Enter the path weight of the edge (2,3): 4\n",
            "\n",
            "Minimum Spanning Tree (MST) Adjacency Matrix:\n",
            "[0, 10, 0, 5]\n",
            "[10, 0, 0, 0]\n",
            "[0, 0, 0, 4]\n",
            "[5, 0, 4, 0]\n"
          ]
        }
      ],
      "source": [
        "def Prims(adjMatrix):\n",
        "    vertex = len(adjMatrix)\n",
        "    mstMatrix = [[0 for _ in range(vertex)] for _ in range(vertex)]\n",
        "    largeNum = float('inf')\n",
        "    selectedVertex = [False for _ in range(vertex)]\n",
        "    selectedVertex[0] = True  # Start from vertex 0\n",
        "\n",
        "    while False in selectedVertex:\n",
        "        minimum = largeNum\n",
        "        start = -1\n",
        "        end = -1\n",
        "        for i in range(vertex):\n",
        "            if selectedVertex[i]:\n",
        "                for j in range(vertex):\n",
        "                    if not selectedVertex[j] and adjMatrix[i][j] > 0:\n",
        "                        if adjMatrix[i][j] < minimum:\n",
        "                            minimum = adjMatrix[i][j]\n",
        "                            start, end = i, j\n",
        "        if start != -1 and end != -1:\n",
        "            selectedVertex[end] = True\n",
        "            mstMatrix[start][end] = minimum\n",
        "            mstMatrix[end][start] = minimum\n",
        "    return mstMatrix\n",
        "\n",
        "\n",
        "# -------- Input and Output Example --------\n",
        "\n",
        "v = int(input(\"Enter the number of vertices: \"))\n",
        "adj = [[0 for _ in range(v)] for _ in range(v)]\n",
        "\n",
        "# Input to adjacency matrix\n",
        "for i in range(v):\n",
        "    for j in range(i + 1, v):\n",
        "        wt = int(input(\"Enter the path weight of the edge ({},{}): \".format(i, j)))\n",
        "        adj[i][j] = adj[j][i] = wt\n",
        "\n",
        "mst = Prims(adj)\n",
        "\n",
        "print(\"\\nMinimum Spanning Tree (MST) Adjacency Matrix:\")\n",
        "for row in mst:\n",
        "    print(row)\n"
      ]
    }
  ]
}