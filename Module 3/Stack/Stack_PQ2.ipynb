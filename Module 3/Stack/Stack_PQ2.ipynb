{
 "cells": [
  {
   "cell_type": "markdown",
   "id": "1a1ef7bf",
   "metadata": {},
   "source": [
    "1. Parentheses Positioning Error\n"
   ]
  },
  {
   "cell_type": "code",
   "execution_count": null,
   "id": "44e61354",
   "metadata": {},
   "outputs": [],
   "source": [
    "def first_mismatch_parenthesis(s):\n",
    "    stack = []\n",
    "    for i, ch in enumerate(s):\n",
    "        if ch == '(':\n",
    "            stack.append(i)\n",
    "        elif ch == ')':\n",
    "            if stack:\n",
    "                stack.pop()\n",
    "            else:\n",
    "                return i  # Extra closing parenthesis\n",
    "    if stack:\n",
    "        return stack[0]  # First unmatched opening parenthesis\n",
    "    return -1\n"
   ]
  },
  {
   "cell_type": "markdown",
   "id": "50c7d8c5",
   "metadata": {},
   "source": [
    "2. Parentheses in a Long String\n"
   ]
  },
  {
   "cell_type": "code",
   "execution_count": null,
   "id": "83b4e6f0",
   "metadata": {},
   "outputs": [],
   "source": [
    "def balanced_positions(s):\n",
    "    stack = []\n",
    "    result = []\n",
    "    for i, ch in enumerate(s):\n",
    "        if ch == '(':\n",
    "            stack.append(i)\n",
    "        elif ch == ')':\n",
    "            if stack:\n",
    "                start = stack.pop()\n",
    "                result.append((start, i))\n",
    "    return result"
   ]
  },
  {
   "cell_type": "markdown",
   "id": "dbcb4d46",
   "metadata": {},
   "source": [
    "3. Minimum Number of Parentheses to Add"
   ]
  },
  {
   "cell_type": "code",
   "execution_count": null,
   "id": "2558ee4c",
   "metadata": {},
   "outputs": [],
   "source": [
    "def min_add_to_make_valid(s):\n",
    "    open_count = 0\n",
    "    close_needed = 0\n",
    "    for ch in s:\n",
    "        if ch == '(':\n",
    "            open_count += 1\n",
    "        elif ch == ')':\n",
    "            if open_count > 0:\n",
    "                open_count -= 1\n",
    "            else:\n",
    "                close_needed += 1\n",
    "    return open_count + close_needed\n"
   ]
  },
  {
   "cell_type": "markdown",
   "id": "74ef932a",
   "metadata": {},
   "source": [
    "4. Longest Valid Parentheses Substring"
   ]
  },
  {
   "cell_type": "code",
   "execution_count": null,
   "id": "d3397bcb",
   "metadata": {},
   "outputs": [],
   "source": [
    "def longest_valid_parentheses(s):\n",
    "    stack = [-1]\n",
    "    max_len = 0\n",
    "    for i, ch in enumerate(s):\n",
    "        if ch == '(':\n",
    "            stack.append(i)\n",
    "        else:\n",
    "            stack.pop()\n",
    "            if stack:\n",
    "                max_len = max(max_len, i - stack[-1])\n",
    "            else:\n",
    "                stack.append(i)\n",
    "    return max_len"
   ]
  }
 ],
 "metadata": {
  "kernelspec": {
   "display_name": "Python 3",
   "language": "python",
   "name": "python3"
  },
  "language_info": {
   "name": "python",
   "version": "3.11.5"
  }
 },
 "nbformat": 4,
 "nbformat_minor": 5
}
