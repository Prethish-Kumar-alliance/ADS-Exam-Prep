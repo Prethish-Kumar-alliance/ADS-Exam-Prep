{
 "cells": [
  {
   "cell_type": "code",
   "execution_count": null,
   "id": "465bc667",
   "metadata": {},
   "outputs": [],
   "source": [
    "class QueueNode:\n",
    "    def __init__(self,data,link=None):\n",
    "        self.data = data\n",
    "        self.next = link\n",
    "\n",
    "class Queue:\n",
    "    def __init__(self):\n",
    "        self.front = None\n",
    "        self.rear = None\n",
    "\n",
    "    def isempty(self):\n",
    "        return self.front is None\n",
    "    \n",
    "    def enqueue(self,item):\n",
    "        newNode = QueueNode(item)\n",
    "\n",
    "        if not self.front:\n",
    "            self.front = self.rear = newNode\n",
    "        else:\n",
    "            self.rear.next = newNode\n",
    "            self.rear = self.rear.next\n",
    "    \n",
    "    def dequeue(self):\n",
    "        if not self.front:\n",
    "            print(\"Queue Is Empty!\")\n",
    "        else:\n",
    "            data = self.front.data\n",
    "            if self.front==self.rear:\n",
    "                self.front=self.rear=None\n",
    "            else:\n",
    "                self.front = self.front.next\n",
    "            return data"
   ]
  }
 ],
 "metadata": {
  "language_info": {
   "name": "python"
  }
 },
 "nbformat": 4,
 "nbformat_minor": 5
}
