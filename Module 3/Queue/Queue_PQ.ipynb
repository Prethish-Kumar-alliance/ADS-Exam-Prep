{
 "cells": [
  {
   "cell_type": "markdown",
   "id": "bfbdbebd",
   "metadata": {},
   "source": [
    "1) Queue using Two Stacks (Array or List)"
   ]
  },
  {
   "cell_type": "code",
   "execution_count": null,
   "id": "39d2c946",
   "metadata": {},
   "outputs": [],
   "source": [
    "stack_in = []\n",
    "stack_out = []\n",
    "\n",
    "def enqueue(x):\n",
    "    stack_in.append(x)\n",
    "\n",
    "def dequeue():\n",
    "    if not stack_out:\n",
    "        while stack_in:\n",
    "            stack_out.append(stack_in.pop())\n",
    "    if not stack_out:\n",
    "        return None  # Queue is empty\n",
    "    return stack_out.pop()\n",
    "\n",
    "def peek():\n",
    "    if not stack_out:\n",
    "        while stack_in:\n",
    "            stack_out.append(stack_in.pop())\n",
    "    if not stack_out:\n",
    "        return None\n",
    "    return stack_out[-1]\n",
    "\n",
    "def is_empty():\n",
    "    return not stack_in and not stack_out\n"
   ]
  },
  {
   "cell_type": "markdown",
   "id": "c7f736b0",
   "metadata": {},
   "source": [
    "2) Reverse a Queue Using Recursion:"
   ]
  },
  {
   "cell_type": "code",
   "execution_count": null,
   "id": "6dcdb9c2",
   "metadata": {},
   "outputs": [],
   "source": [
    "def reverse_queue(q):\n",
    "    if q.isempty():\n",
    "        return\n",
    "    item = q.dequeue()\n",
    "    reverse_queue(q)\n",
    "    q.enqueue(item)"
   ]
  },
  {
   "cell_type": "markdown",
   "id": "4caef49e",
   "metadata": {},
   "source": [
    "3) Design a Queue that Supports max() Operation"
   ]
  },
  {
   "cell_type": "code",
   "execution_count": null,
   "id": "f62752ba",
   "metadata": {},
   "outputs": [],
   "source": [
    "def max(self):\n",
    "        if self.isempty():\n",
    "            return None\n",
    "        max_val = self.front.data\n",
    "        current = self.front.next\n",
    "        while current:\n",
    "            if current.data > max_val:\n",
    "                max_val = current.data\n",
    "            current = current.next\n",
    "        return max_val"
   ]
  }
 ],
 "metadata": {
  "language_info": {
   "name": "python"
  }
 },
 "nbformat": 4,
 "nbformat_minor": 5
}
