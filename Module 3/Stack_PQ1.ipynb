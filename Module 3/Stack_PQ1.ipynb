{
 "cells": [
  {
   "cell_type": "markdown",
   "id": "45ce0280",
   "metadata": {},
   "source": [
    "Stack Class"
   ]
  },
  {
   "cell_type": "code",
   "execution_count": 3,
   "id": "20d0cd51",
   "metadata": {},
   "outputs": [],
   "source": [
    "class StackNode:\n",
    "    def __init__(self,data,link):\n",
    "        self.data = data\n",
    "        self.next = link\n",
    "\n",
    "class Stack:\n",
    "    def __init__(self):\n",
    "        self.top = None\n",
    "    \n",
    "    def isempty(self):\n",
    "        return self.top is None \n",
    "    \n",
    "    def peek(self):\n",
    "        return self.top.data\n",
    "    \n",
    "    def push(self,item):\n",
    "        self.top = StackNode(item,self.top)\n",
    "    \n",
    "    def pop(self):\n",
    "        node = self.top\n",
    "        self.top = self.top.next\n",
    "        return node.data\n",
    "\n",
    "    def display(self):\n",
    "        curNode = self.top\n",
    "        while curNode is not None:\n",
    "            print(curNode.data)\n",
    "            curNode = curNode.next"
   ]
  },
  {
   "cell_type": "markdown",
   "id": "d2abdf61",
   "metadata": {},
   "source": [
    "1) Reverse a String using a Stack:"
   ]
  },
  {
   "cell_type": "code",
   "execution_count": 6,
   "id": "ea03954b",
   "metadata": {},
   "outputs": [
    {
     "name": "stdout",
     "output_type": "stream",
     "text": [
      "!dlroW olleH\n"
     ]
    }
   ],
   "source": [
    "s = \"Hello World!\"\n",
    "new_s = \"\"\n",
    "\n",
    "stack = Stack()\n",
    "for char in s:\n",
    "    stack.push(char)\n",
    "\n",
    "while not stack.isempty():\n",
    "    new_s = new_s + stack.pop()\n",
    "\n",
    "print(new_s)"
   ]
  },
  {
   "cell_type": "markdown",
   "id": "4bf8864a",
   "metadata": {},
   "source": [
    "2) Stack Sort Algorithm:"
   ]
  },
  {
   "cell_type": "code",
   "execution_count": null,
   "id": "9f8a3c88",
   "metadata": {},
   "outputs": [],
   "source": [
    "# Yet To Comeplete."
   ]
  },
  {
   "cell_type": "markdown",
   "id": "a7ff6fe1",
   "metadata": {},
   "source": [
    "3) Implement a Stack for Queue Operations:"
   ]
  },
  {
   "cell_type": "code",
   "execution_count": null,
   "id": "c20d6d5e",
   "metadata": {},
   "outputs": [],
   "source": [
    "stack_in = Stack()\n",
    "stack_out = Stack()\n",
    "\n",
    "\n",
    "def enqueue(item):\n",
    "    stack_in.push(item)\n",
    "\n",
    "def dequeue():\n",
    "\n",
    "    if stack_out.isempty():\n",
    "        while not stack_in.isempty():\n",
    "            stack_out.push(stack_in.pop())\n",
    "\n",
    "    if stack_out.isempty():\n",
    "        return None\n",
    "\n",
    "    return stack_out.pop()"
   ]
  },
  {
   "cell_type": "markdown",
   "id": "5735998c",
   "metadata": {},
   "source": [
    "4) Undo/Redo Operation with Stack:"
   ]
  },
  {
   "cell_type": "code",
   "execution_count": null,
   "id": "df4a8481",
   "metadata": {},
   "outputs": [],
   "source": [
    "undo_stack = []\n",
    "redo_stack = []\n",
    "\n",
    "def undo():\n",
    "    if not undo_stack:\n",
    "        print(\"Nothing to undo\")\n",
    "        return\n",
    "    action = undo_stack.pop()\n",
    "    redo_stack.append(action)\n",
    "    print(f\"Undo: {action}\")\n",
    "\n",
    "def redo():\n",
    "    if not redo_stack:\n",
    "        print(\"Nothing to redo\")\n",
    "        return\n",
    "    action = redo_stack.pop()\n",
    "    undo_stack.append(action)\n",
    "    print(f\"Redo: {action}\")"
   ]
  },
  {
   "cell_type": "markdown",
   "id": "1af57214",
   "metadata": {},
   "source": [
    "5) Implement a Stack that Supports Getting the Middle Element:"
   ]
  },
  {
   "cell_type": "code",
   "execution_count": null,
   "id": "6d3b44fe",
   "metadata": {},
   "outputs": [],
   "source": [
    "def get_middle(self):\n",
    "    if not self.stack:\n",
    "        return None\n",
    "    n = len(self.stack)\n",
    "    middle_index = (n // 2) - 1 if n % 2 == 0 else (n // 2)\n",
    "    return self.stack[middle_index]"
   ]
  },
  {
   "cell_type": "markdown",
   "id": "36284610",
   "metadata": {},
   "source": [
    "6) Remove Duplicates from a Stack:"
   ]
  },
  {
   "cell_type": "code",
   "execution_count": null,
   "id": "dba6204c",
   "metadata": {},
   "outputs": [],
   "source": [
    "def remove_duplicates(stack):\n",
    "    seen = set()\n",
    "    new_stack = []\n",
    "    \n",
    "    for item in stack:\n",
    "        if item not in seen:\n",
    "            seen.add(item)\n",
    "            new_stack.append(item)\n",
    "    \n",
    "    stack.clear()\n",
    "    stack.extend(new_stack)"
   ]
  },
  {
   "cell_type": "markdown",
   "id": "bdbad17e",
   "metadata": {},
   "source": [
    "7) Stack Using 2 Queues"
   ]
  },
  {
   "cell_type": "code",
   "execution_count": null,
   "id": "5c53624d",
   "metadata": {},
   "outputs": [],
   "source": [
    "# Nah"
   ]
  },
  {
   "cell_type": "markdown",
   "id": "be0ebd42",
   "metadata": {},
   "source": [
    "9) Next Greatest Element"
   ]
  },
  {
   "cell_type": "code",
   "execution_count": null,
   "id": "84de28e7",
   "metadata": {},
   "outputs": [],
   "source": [
    "def next_greater_elements(nums):\n",
    "    stack = []\n",
    "    result = []\n",
    "\n",
    "    for num in reversed(nums):\n",
    "        while stack and stack[-1] <= num:\n",
    "            stack.pop()\n",
    "        result.append(stack[-1] if stack else -1)\n",
    "        stack.append(num)\n",
    "\n",
    "    return result[::-1]"
   ]
  }
 ],
 "metadata": {
  "kernelspec": {
   "display_name": "Python 3",
   "language": "python",
   "name": "python3"
  },
  "language_info": {
   "codemirror_mode": {
    "name": "ipython",
    "version": 3
   },
   "file_extension": ".py",
   "mimetype": "text/x-python",
   "name": "python",
   "nbconvert_exporter": "python",
   "pygments_lexer": "ipython3",
   "version": "3.11.5"
  }
 },
 "nbformat": 4,
 "nbformat_minor": 5
}
