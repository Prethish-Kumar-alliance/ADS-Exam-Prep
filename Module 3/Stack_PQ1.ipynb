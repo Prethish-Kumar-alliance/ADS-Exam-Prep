{
 "cells": [
  {
   "cell_type": "markdown",
   "id": "45ce0280",
   "metadata": {},
   "source": [
    "Stack Class"
   ]
  },
  {
   "cell_type": "code",
   "execution_count": 3,
   "id": "20d0cd51",
   "metadata": {},
   "outputs": [],
   "source": [
    "class StackNode:\n",
    "    def __init__(self,data,link):\n",
    "        self.data = data\n",
    "        self.next = link\n",
    "\n",
    "class Stack:\n",
    "    def __init__(self):\n",
    "        self.top = None\n",
    "    \n",
    "    def isempty(self):\n",
    "        return self.top is None \n",
    "    \n",
    "    def peek(self):\n",
    "        return self.top.data\n",
    "    \n",
    "    def push(self,item):\n",
    "        self.top = StackNode(item,self.top)\n",
    "    \n",
    "    def pop(self):\n",
    "        node = self.top\n",
    "        self.top = self.top.next\n",
    "        return node.data\n",
    "\n",
    "    def display(self):\n",
    "        curNode = self.top\n",
    "        while curNode is not None:\n",
    "            print(curNode.data)\n",
    "            curNode = curNode.next"
   ]
  },
  {
   "cell_type": "markdown",
   "id": "d2abdf61",
   "metadata": {},
   "source": [
    "1) Reverse a String using a Stack:"
   ]
  },
  {
   "cell_type": "code",
   "execution_count": 6,
   "id": "ea03954b",
   "metadata": {},
   "outputs": [
    {
     "name": "stdout",
     "output_type": "stream",
     "text": [
      "!dlroW olleH\n"
     ]
    }
   ],
   "source": [
    "s = \"Hello World!\"\n",
    "new_s = \"\"\n",
    "\n",
    "stack = Stack()\n",
    "for char in s:\n",
    "    stack.push(char)\n",
    "\n",
    "while not stack.isempty():\n",
    "    new_s = new_s + stack.pop()\n",
    "\n",
    "print(new_s)"
   ]
  },
  {
   "cell_type": "markdown",
   "id": "4bf8864a",
   "metadata": {},
   "source": [
    "2) Stack Sort Algorithm:"
   ]
  },
  {
   "cell_type": "code",
   "execution_count": null,
   "id": "9f8a3c88",
   "metadata": {},
   "outputs": [],
   "source": [
    "# Yet To Comeplete."
   ]
  },
  {
   "cell_type": "markdown",
   "id": "a7ff6fe1",
   "metadata": {},
   "source": [
    "3) Implement a Stack for Queue Operations:"
   ]
  },
  {
   "cell_type": "code",
   "execution_count": null,
   "id": "c20d6d5e",
   "metadata": {},
   "outputs": [],
   "source": [
    "stack_in = Stack()\n",
    "stack_out = Stack()\n",
    "\n",
    "\n",
    "def enqueue(item):\n",
    "    stack_in.push(item)\n",
    "\n",
    "def dequeue():\n",
    "\n",
    "    if stack_out.isempty():\n",
    "        while not stack_in.isempty():\n",
    "            stack_out.push(stack_in.pop())\n",
    "\n",
    "    if stack_out.isempty():\n",
    "        return None\n",
    "\n",
    "    return stack_out.pop()\n",
    "\n"
   ]
  }
 ],
 "metadata": {
  "kernelspec": {
   "display_name": "Python 3",
   "language": "python",
   "name": "python3"
  },
  "language_info": {
   "codemirror_mode": {
    "name": "ipython",
    "version": 3
   },
   "file_extension": ".py",
   "mimetype": "text/x-python",
   "name": "python",
   "nbconvert_exporter": "python",
   "pygments_lexer": "ipython3",
   "version": "3.11.5"
  }
 },
 "nbformat": 4,
 "nbformat_minor": 5
}
