{
 "cells": [
  {
   "cell_type": "code",
   "execution_count": null,
   "id": "fba24863",
   "metadata": {},
   "outputs": [],
   "source": [
    "class StackNode:\n",
    "    def __init__(self,data,link):\n",
    "        self.data = data\n",
    "        self.link = link\n",
    "\n",
    "class Stack:\n",
    "    def __init__(self):\n",
    "        self.top = None\n",
    "    \n",
    "    def isempty(self):\n",
    "        return self.top is None \n",
    "    \n",
    "    def peek(self):\n",
    "        return self.top\n",
    "    \n",
    "    def push(self,item):\n",
    "        self.top = StackNode(item,self.top)\n",
    "    \n",
    "    def pop(self,item):\n",
    "        node = self.top\n",
    "        self.top = self.top.link\n",
    "        return node.data\n",
    "\n",
    "    def display(self):\n",
    "        curNode = self.top\n",
    "        while curNode is None:\n",
    "            print(curNode)\n",
    "            curNode = curNode.link"
   ]
  }
 ],
 "metadata": {
  "language_info": {
   "name": "python"
  }
 },
 "nbformat": 4,
 "nbformat_minor": 5
}
