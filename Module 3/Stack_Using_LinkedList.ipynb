{
 "cells": [
  {
   "cell_type": "code",
   "execution_count": null,
   "id": "fba24863",
   "metadata": {},
   "outputs": [],
   "source": [
    "class StackNode:\n",
    "    def __init__(self,data,link):\n",
    "        self.data = data\n",
    "        self.next = link\n",
    "\n",
    "class Stack:\n",
    "    def __init__(self):\n",
    "        self.top = None\n",
    "    \n",
    "    def isempty(self):\n",
    "        return self.top is None \n",
    "    \n",
    "    def peek(self):\n",
    "        return self.top.data\n",
    "    \n",
    "    def push(self,item):\n",
    "        self.top = StackNode(item,self.top)\n",
    "    \n",
    "    def pop(self):\n",
    "        node = self.top\n",
    "        self.top = self.top.next\n",
    "        return node.data\n",
    "\n",
    "    def display(self):\n",
    "        curNode = self.top\n",
    "        while curNode is not None:\n",
    "            print(curNode)\n",
    "            curNode = curNode.next"
   ]
  }
 ],
 "metadata": {
  "language_info": {
   "name": "python"
  }
 },
 "nbformat": 4,
 "nbformat_minor": 5
}
